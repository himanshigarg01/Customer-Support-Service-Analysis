{
 "cells": [
  {
   "cell_type": "markdown",
   "id": "dd33d037",
   "metadata": {},
   "source": [
    "## Customer Supoort Service Assignment\n",
    "### By:- Himanshi Garg"
   ]
  },
  {
   "cell_type": "code",
   "execution_count": 76,
   "id": "80c99ddc",
   "metadata": {},
   "outputs": [
    {
     "data": {
      "text/html": [
       "<div>\n",
       "<style scoped>\n",
       "    .dataframe tbody tr th:only-of-type {\n",
       "        vertical-align: middle;\n",
       "    }\n",
       "\n",
       "    .dataframe tbody tr th {\n",
       "        vertical-align: top;\n",
       "    }\n",
       "\n",
       "    .dataframe thead th {\n",
       "        text-align: right;\n",
       "    }\n",
       "</style>\n",
       "<table border=\"1\" class=\"dataframe\">\n",
       "  <thead>\n",
       "    <tr style=\"text-align: right;\">\n",
       "      <th></th>\n",
       "      <th>Id</th>\n",
       "      <th>Requester id</th>\n",
       "      <th>Group</th>\n",
       "      <th>Status</th>\n",
       "      <th>Priority</th>\n",
       "      <th>Via</th>\n",
       "      <th>Created at</th>\n",
       "      <th>Updated at</th>\n",
       "      <th>Assigned at</th>\n",
       "      <th>Initially assigned at</th>\n",
       "      <th>...</th>\n",
       "      <th>Reopens</th>\n",
       "      <th>Replies</th>\n",
       "      <th>First reply time in minutes within business hours</th>\n",
       "      <th>First resolution time in minutes</th>\n",
       "      <th>First resolution time in minutes within business hours</th>\n",
       "      <th>Full resolution time in minutes</th>\n",
       "      <th>Full resolution time in minutes within business hours</th>\n",
       "      <th>Requester wait time in minutes</th>\n",
       "      <th>Requester wait time in minutes within business hours</th>\n",
       "      <th>Manual Tagging of Categories [list]</th>\n",
       "    </tr>\n",
       "  </thead>\n",
       "  <tbody>\n",
       "    <tr>\n",
       "      <th>0</th>\n",
       "      <td>297732</td>\n",
       "      <td>10300555531549</td>\n",
       "      <td>Support</td>\n",
       "      <td>Solved</td>\n",
       "      <td>Low</td>\n",
       "      <td>Mail</td>\n",
       "      <td>08-04-2023 20:52</td>\n",
       "      <td>14-06-2023 16:30</td>\n",
       "      <td>09-04-2023 10:28</td>\n",
       "      <td>09-04-2023 10:28</td>\n",
       "      <td>...</td>\n",
       "      <td>11</td>\n",
       "      <td>11</td>\n",
       "      <td>173.0</td>\n",
       "      <td>12975.0</td>\n",
       "      <td>6488.0</td>\n",
       "      <td>96218.0</td>\n",
       "      <td>47978.0</td>\n",
       "      <td>17853.0</td>\n",
       "      <td>8516.0</td>\n",
       "      <td>Is my treatment covered (IMTC)</td>\n",
       "    </tr>\n",
       "    <tr>\n",
       "      <th>1</th>\n",
       "      <td>311457</td>\n",
       "      <td>10420228868125</td>\n",
       "      <td>Reimbursement Claims</td>\n",
       "      <td>Closed</td>\n",
       "      <td>Low</td>\n",
       "      <td>Mail</td>\n",
       "      <td>24-04-2023 19:32</td>\n",
       "      <td>15-06-2023 16:37</td>\n",
       "      <td>25-04-2023 10:18</td>\n",
       "      <td>25-04-2023 10:18</td>\n",
       "      <td>...</td>\n",
       "      <td>10</td>\n",
       "      <td>10</td>\n",
       "      <td>1527.0</td>\n",
       "      <td>2984.0</td>\n",
       "      <td>1527.0</td>\n",
       "      <td>45893.0</td>\n",
       "      <td>22853.0</td>\n",
       "      <td>30113.0</td>\n",
       "      <td>15139.0</td>\n",
       "      <td>-</td>\n",
       "    </tr>\n",
       "    <tr>\n",
       "      <th>2</th>\n",
       "      <td>329907</td>\n",
       "      <td>10991633548957</td>\n",
       "      <td>Support</td>\n",
       "      <td>Solved</td>\n",
       "      <td>Low</td>\n",
       "      <td>Mail</td>\n",
       "      <td>16-05-2023 17:43</td>\n",
       "      <td>30-05-2023 14:56</td>\n",
       "      <td>16-05-2023 18:18</td>\n",
       "      <td>16-05-2023 18:18</td>\n",
       "      <td>...</td>\n",
       "      <td>10</td>\n",
       "      <td>11</td>\n",
       "      <td>61.0</td>\n",
       "      <td>1563.0</td>\n",
       "      <td>843.0</td>\n",
       "      <td>19993.0</td>\n",
       "      <td>9913.0</td>\n",
       "      <td>7115.0</td>\n",
       "      <td>3335.0</td>\n",
       "      <td>Claims</td>\n",
       "    </tr>\n",
       "    <tr>\n",
       "      <th>3</th>\n",
       "      <td>301553</td>\n",
       "      <td>10376247288477</td>\n",
       "      <td>Support</td>\n",
       "      <td>Solved</td>\n",
       "      <td>Low</td>\n",
       "      <td>Mail</td>\n",
       "      <td>13-04-2023 11:03</td>\n",
       "      <td>15-06-2023 20:55</td>\n",
       "      <td>13-04-2023 13:04</td>\n",
       "      <td>13-04-2023 13:04</td>\n",
       "      <td>...</td>\n",
       "      <td>9</td>\n",
       "      <td>9</td>\n",
       "      <td>381.0</td>\n",
       "      <td>2888.0</td>\n",
       "      <td>1448.0</td>\n",
       "      <td>91313.0</td>\n",
       "      <td>45953.0</td>\n",
       "      <td>18221.0</td>\n",
       "      <td>9401.0</td>\n",
       "      <td>Claims</td>\n",
       "    </tr>\n",
       "    <tr>\n",
       "      <th>4</th>\n",
       "      <td>310966</td>\n",
       "      <td>7302858920989</td>\n",
       "      <td>Support</td>\n",
       "      <td>Closed</td>\n",
       "      <td>Low</td>\n",
       "      <td>Mail</td>\n",
       "      <td>24-04-2023 13:21</td>\n",
       "      <td>08-06-2023 18:37</td>\n",
       "      <td>27-04-2023 14:48</td>\n",
       "      <td>24-04-2023 13:48</td>\n",
       "      <td>...</td>\n",
       "      <td>9</td>\n",
       "      <td>9</td>\n",
       "      <td>37.0</td>\n",
       "      <td>37.0</td>\n",
       "      <td>37.0</td>\n",
       "      <td>36304.0</td>\n",
       "      <td>17739.0</td>\n",
       "      <td>7427.0</td>\n",
       "      <td>4008.0</td>\n",
       "      <td>Claims</td>\n",
       "    </tr>\n",
       "  </tbody>\n",
       "</table>\n",
       "<p>5 rows × 23 columns</p>\n",
       "</div>"
      ],
      "text/plain": [
       "       Id    Requester id                 Group  Status Priority   Via  \\\n",
       "0  297732  10300555531549               Support  Solved      Low  Mail   \n",
       "1  311457  10420228868125  Reimbursement Claims  Closed      Low  Mail   \n",
       "2  329907  10991633548957               Support  Solved      Low  Mail   \n",
       "3  301553  10376247288477               Support  Solved      Low  Mail   \n",
       "4  310966   7302858920989               Support  Closed      Low  Mail   \n",
       "\n",
       "         Created at        Updated at       Assigned at Initially assigned at  \\\n",
       "0  08-04-2023 20:52  14-06-2023 16:30  09-04-2023 10:28      09-04-2023 10:28   \n",
       "1  24-04-2023 19:32  15-06-2023 16:37  25-04-2023 10:18      25-04-2023 10:18   \n",
       "2  16-05-2023 17:43  30-05-2023 14:56  16-05-2023 18:18      16-05-2023 18:18   \n",
       "3  13-04-2023 11:03  15-06-2023 20:55  13-04-2023 13:04      13-04-2023 13:04   \n",
       "4  24-04-2023 13:21  08-06-2023 18:37  27-04-2023 14:48      24-04-2023 13:48   \n",
       "\n",
       "   ... Reopens  Replies First reply time in minutes within business hours  \\\n",
       "0  ...      11       11                                             173.0   \n",
       "1  ...      10       10                                            1527.0   \n",
       "2  ...      10       11                                              61.0   \n",
       "3  ...       9        9                                             381.0   \n",
       "4  ...       9        9                                              37.0   \n",
       "\n",
       "   First resolution time in minutes  \\\n",
       "0                           12975.0   \n",
       "1                            2984.0   \n",
       "2                            1563.0   \n",
       "3                            2888.0   \n",
       "4                              37.0   \n",
       "\n",
       "   First resolution time in minutes within business hours  \\\n",
       "0                                             6488.0        \n",
       "1                                             1527.0        \n",
       "2                                              843.0        \n",
       "3                                             1448.0        \n",
       "4                                               37.0        \n",
       "\n",
       "   Full resolution time in minutes  \\\n",
       "0                          96218.0   \n",
       "1                          45893.0   \n",
       "2                          19993.0   \n",
       "3                          91313.0   \n",
       "4                          36304.0   \n",
       "\n",
       "   Full resolution time in minutes within business hours  \\\n",
       "0                                            47978.0       \n",
       "1                                            22853.0       \n",
       "2                                             9913.0       \n",
       "3                                            45953.0       \n",
       "4                                            17739.0       \n",
       "\n",
       "   Requester wait time in minutes  \\\n",
       "0                         17853.0   \n",
       "1                         30113.0   \n",
       "2                          7115.0   \n",
       "3                         18221.0   \n",
       "4                          7427.0   \n",
       "\n",
       "   Requester wait time in minutes within business hours  \\\n",
       "0                                             8516.0      \n",
       "1                                            15139.0      \n",
       "2                                             3335.0      \n",
       "3                                             9401.0      \n",
       "4                                             4008.0      \n",
       "\n",
       "   Manual Tagging of Categories [list]  \n",
       "0       Is my treatment covered (IMTC)  \n",
       "1                                    -  \n",
       "2                               Claims  \n",
       "3                               Claims  \n",
       "4                               Claims  \n",
       "\n",
       "[5 rows x 23 columns]"
      ]
     },
     "execution_count": 76,
     "metadata": {},
     "output_type": "execute_result"
    }
   ],
   "source": [
    "import pandas as pd\n",
    "import numpy as np\n",
    "\n",
    "path = (r'C:\\Users\\Admin\\Desktop\\Customer Support Service\\DA Assignment - Sheet1.csv')\n",
    "\n",
    "df = pd.read_csv(path)\n",
    "\n",
    "df.head()"
   ]
  },
  {
   "cell_type": "code",
   "execution_count": 19,
   "id": "a79017ab",
   "metadata": {},
   "outputs": [
    {
     "name": "stdout",
     "output_type": "stream",
     "text": [
      "                  Id  Requester id  Resolution time       Reopens  \\\n",
      "count   16476.000000  1.647600e+04     14409.000000  16476.000000   \n",
      "mean   316876.239743  8.422350e+12       205.246235      0.242899   \n",
      "std     15369.829459  1.545776e+12       283.541651      0.705320   \n",
      "min    291015.000000  5.879787e+12         0.000000      0.000000   \n",
      "25%    303624.750000  7.273930e+12        22.000000      0.000000   \n",
      "50%    316564.500000  7.306863e+12        96.000000      0.000000   \n",
      "75%    330251.250000  1.011376e+13       259.000000      0.000000   \n",
      "max    344028.000000  1.129824e+13      1805.000000     11.000000   \n",
      "\n",
      "            Replies  First reply time in minutes within business hours  \\\n",
      "count  16476.000000                                       12760.000000   \n",
      "mean       2.152525                                        1852.113950   \n",
      "std        2.681740                                        3916.902674   \n",
      "min        0.000000                                           0.000000   \n",
      "25%        1.000000                                         122.000000   \n",
      "50%        1.000000                                         478.000000   \n",
      "75%        3.000000                                        1935.250000   \n",
      "max       36.000000                                       52770.000000   \n",
      "\n",
      "       First resolution time in minutes  \\\n",
      "count                      14834.000000   \n",
      "mean                       10177.772752   \n",
      "std                        15243.191721   \n",
      "min                            0.000000   \n",
      "25%                          916.250000   \n",
      "50%                         4299.000000   \n",
      "75%                        12085.750000   \n",
      "max                       108322.000000   \n",
      "\n",
      "       First resolution time in minutes within business hours  \\\n",
      "count                                       14834.000000        \n",
      "mean                                         5131.839693        \n",
      "std                                          7625.355098        \n",
      "min                                             0.000000        \n",
      "25%                                           437.000000        \n",
      "50%                                          2154.000000        \n",
      "75%                                          6178.750000        \n",
      "max                                         54322.000000        \n",
      "\n",
      "       Full resolution time in minutes  \\\n",
      "count                     14409.000000   \n",
      "mean                      12314.136304   \n",
      "std                       17012.495327   \n",
      "min                           0.000000   \n",
      "25%                        1340.000000   \n",
      "50%                        5751.000000   \n",
      "75%                       15559.000000   \n",
      "max                      108322.000000   \n",
      "\n",
      "       Full resolution time in minutes within business hours  \\\n",
      "count                                       14409.000000       \n",
      "mean                                         6196.644320       \n",
      "std                                          8504.443833       \n",
      "min                                             0.000000       \n",
      "25%                                           652.000000       \n",
      "50%                                          2880.000000       \n",
      "75%                                          7847.000000       \n",
      "max                                         54322.000000       \n",
      "\n",
      "       Requester wait time in minutes  \\\n",
      "count                    16327.000000   \n",
      "mean                     10443.141238   \n",
      "std                      15858.506931   \n",
      "min                          0.000000   \n",
      "25%                        936.000000   \n",
      "50%                       4238.000000   \n",
      "75%                      12176.000000   \n",
      "max                     108942.000000   \n",
      "\n",
      "       Requester wait time in minutes within business hours  \n",
      "count                                       16327.000000     \n",
      "mean                                         5259.864213     \n",
      "std                                          7917.994694     \n",
      "min                                             0.000000     \n",
      "25%                                           491.000000     \n",
      "50%                                          2126.000000     \n",
      "75%                                          6212.000000     \n",
      "max                                         54355.000000     \n"
     ]
    }
   ],
   "source": [
    "# Get summary statistics for numerical columns\n",
    "print(df.describe())"
   ]
  },
  {
   "cell_type": "code",
   "execution_count": 24,
   "id": "77253d63",
   "metadata": {},
   "outputs": [
    {
     "data": {
      "text/plain": [
       "(16476, 23)"
      ]
     },
     "execution_count": 24,
     "metadata": {},
     "output_type": "execute_result"
    }
   ],
   "source": [
    "df.shape"
   ]
  },
  {
   "cell_type": "code",
   "execution_count": 20,
   "id": "54d16ee2",
   "metadata": {},
   "outputs": [
    {
     "name": "stdout",
     "output_type": "stream",
     "text": [
      "Id                                                            0\n",
      "Requester id                                                  0\n",
      "Group                                                         0\n",
      "Status                                                        0\n",
      "Priority                                                      0\n",
      "Via                                                           0\n",
      "Created at                                                    0\n",
      "Updated at                                                    0\n",
      "Assigned at                                                 129\n",
      "Initially assigned at                                       129\n",
      "Solved at                                                  2067\n",
      "Resolution time                                            2067\n",
      "Satisfaction Score                                        11023\n",
      "Reopens                                                       0\n",
      "Replies                                                       0\n",
      "First reply time in minutes within business hours          3716\n",
      "First resolution time in minutes                           1642\n",
      "First resolution time in minutes within business hours     1642\n",
      "Full resolution time in minutes                            2067\n",
      "Full resolution time in minutes within business hours      2067\n",
      "Requester wait time in minutes                              149\n",
      "Requester wait time in minutes within business hours        149\n",
      "Manual Tagging of Categories [list]                           0\n",
      "dtype: int64\n"
     ]
    }
   ],
   "source": [
    "# Check for missing values\n",
    "print(df.isnull().sum())"
   ]
  },
  {
   "cell_type": "code",
   "execution_count": 21,
   "id": "34a636da",
   "metadata": {},
   "outputs": [
    {
     "name": "stdout",
     "output_type": "stream",
     "text": [
      "Id                                                            0\n",
      "Requester id                                                  0\n",
      "Group                                                         0\n",
      "Status                                                        0\n",
      "Priority                                                      0\n",
      "Via                                                           0\n",
      "Created at                                                    0\n",
      "Updated at                                                    0\n",
      "Assigned at                                                 129\n",
      "Initially assigned at                                       129\n",
      "Solved at                                                  2067\n",
      "Resolution time                                            2067\n",
      "Satisfaction Score                                        11023\n",
      "Reopens                                                       0\n",
      "Replies                                                       0\n",
      "First reply time in minutes within business hours          3716\n",
      "First resolution time in minutes                           1642\n",
      "First resolution time in minutes within business hours     1642\n",
      "Full resolution time in minutes                            2067\n",
      "Full resolution time in minutes within business hours      2067\n",
      "Requester wait time in minutes                              149\n",
      "Requester wait time in minutes within business hours        149\n",
      "Manual Tagging of Categories [list]                       13923\n",
      "dtype: int64\n"
     ]
    }
   ],
   "source": [
    "# Replace \"-\" with NaN\n",
    "df.replace(\"-\", np.nan, inplace=True)\n",
    "\n",
    "# Check for missing values\n",
    "print(df.isnull().sum())"
   ]
  },
  {
   "cell_type": "code",
   "execution_count": 22,
   "id": "f3cb4c5a",
   "metadata": {},
   "outputs": [
    {
     "name": "stdout",
     "output_type": "stream",
     "text": [
      "Column: Id\n",
      "Unique Count: 16476\n",
      "Unique Values:\n",
      "[297732 311457 329907 ... 344021 344025 344028]\n",
      "-------------------\n",
      "Column: Requester id\n",
      "Unique Count: 6764\n",
      "Unique Values:\n",
      "[10300555531549 10420228868125 10991633548957 ... 11283774362653\n",
      "  7303060862237 11285001510813]\n",
      "-------------------\n",
      "Column: Group\n",
      "Unique Count: 4\n",
      "Unique Values:\n",
      "['Support' 'Reimbursement Claims' 'Onboardings' 'Endorsements']\n",
      "-------------------\n",
      "Column: Status\n",
      "Unique Count: 6\n",
      "Unique Values:\n",
      "['Solved' 'Closed' 'Hold' 'Open' 'Pending' 'New']\n",
      "-------------------\n",
      "Column: Priority\n",
      "Unique Count: 3\n",
      "Unique Values:\n",
      "['Low' 'Urgent' 'Normal']\n",
      "-------------------\n",
      "Column: Via\n",
      "Unique Count: 4\n",
      "Unique Values:\n",
      "['Mail' 'Internal Communication' 'OutBound' 'Closed Ticket']\n",
      "-------------------\n",
      "Column: Created at\n",
      "Unique Count: 9806\n",
      "Unique Values:\n",
      "['08-04-2023 20:52' '24-04-2023 19:32' '16-05-2023 17:43' ...\n",
      " '31-05-2023 23:16' '31-05-2023 23:35' '31-05-2023 23:43']\n",
      "-------------------\n",
      "Column: Updated at\n",
      "Unique Count: 5290\n",
      "Unique Values:\n",
      "['14-06-2023 16:30' '15-06-2023 16:37' '30-05-2023 14:56' ...\n",
      " '01-06-2023 12:03' '01-06-2023 10:09' '01-06-2023 14:40']\n",
      "-------------------\n",
      "Column: Assigned at\n",
      "Unique Count: 9443\n",
      "Unique Values:\n",
      "['09-04-2023 10:28' '25-04-2023 10:18' '16-05-2023 18:18' ...\n",
      " '01-06-2023 10:09' '01-06-2023 09:33' '01-06-2023 09:34']\n",
      "-------------------\n",
      "Column: Initially assigned at\n",
      "Unique Count: 9165\n",
      "Unique Values:\n",
      "['09-04-2023 10:28' '25-04-2023 10:18' '16-05-2023 18:18' ...\n",
      " '01-06-2023 10:09' '01-06-2023 09:33' '01-06-2023 09:34']\n",
      "-------------------\n",
      "Column: Solved at\n",
      "Unique Count: 11552\n",
      "Unique Values:\n",
      "['14-06-2023 16:30' '26-05-2023 16:26' '30-05-2023 14:56' ...\n",
      " '01-06-2023 10:09' '09-06-2023 16:43' '01-06-2023 14:40']\n",
      "-------------------\n",
      "Column: Resolution time\n",
      "Unique Count: 1209\n",
      "Unique Values:\n",
      "[1604.  765.  333. ...  448.  583.  495.]\n",
      "-------------------\n",
      "Column: Satisfaction Score\n",
      "Unique Count: 6\n",
      "Unique Values:\n",
      "['Offered' nan '4' '1' '2' '3' '5']\n",
      "-------------------\n",
      "Column: Reopens\n",
      "Unique Count: 12\n",
      "Unique Values:\n",
      "[11 10  9  8  7  6  5  4  3  2  1  0]\n",
      "-------------------\n",
      "Column: Replies\n",
      "Unique Count: 30\n",
      "Unique Values:\n",
      "[11 10  9  6  8  7 14 13 20  5 12  2  1  3  0  4 22 24 18 15 16 17 21 28\n",
      " 27 25 19 36 23 32]\n",
      "-------------------\n",
      "Column: First reply time in minutes within business hours\n",
      "Unique Count: 4006\n",
      "Unique Values:\n",
      "[ 173. 1527.   61. ... 4504. 5441. 3615.]\n",
      "-------------------\n",
      "Column: First resolution time in minutes\n",
      "Unique Count: 9126\n",
      "Unique Values:\n",
      "[12975.  2984.  1563. ...  6422. 12548.   897.]\n",
      "-------------------\n",
      "Column: First resolution time in minutes within business hours\n",
      "Unique Count: 7234\n",
      "Unique Values:\n",
      "[ 6488.  1527.   843. ...  3212. 10742.  2929.]\n",
      "-------------------\n",
      "Column: Full resolution time in minutes\n",
      "Unique Count: 9614\n",
      "Unique Values:\n",
      "[96218. 45893. 19993. ...  6422. 12548.   897.]\n",
      "-------------------\n",
      "Column: Full resolution time in minutes within business hours\n",
      "Unique Count: 7762\n",
      "Unique Values:\n",
      "[47978. 22853.  9913. ...  3212. 10742.  2929.]\n",
      "-------------------\n",
      "Column: Requester wait time in minutes\n",
      "Unique Count: 9771\n",
      "Unique Values:\n",
      "[17853. 30113.  7115. ... 26452.  6632.  6422.]\n",
      "-------------------\n",
      "Column: Requester wait time in minutes within business hours\n",
      "Unique Count: 7793\n",
      "Unique Values:\n",
      "[ 8516. 15139.  3335. ...  1236. 10253.  2930.]\n",
      "-------------------\n",
      "Column: Manual Tagging of Categories [list]\n",
      "Unique Count: 11\n",
      "Unique Values:\n",
      "['Is my treatment covered (IMTC)' nan 'Claims' 'Health ID' 'Others'\n",
      " 'Not Applicable' 'Network or Blacklisted Hospitals' 'Manage dependents'\n",
      " 'Telehealth' 'HR Queries' 'Health Benefits' 'Super Top-up (STU)']\n",
      "-------------------\n"
     ]
    }
   ],
   "source": [
    "# Iterate through each column\n",
    "for column in df.columns:\n",
    "    # Count unique values\n",
    "    unique_count = df[column].nunique()\n",
    "    print(f\"Column: {column}\")\n",
    "    print(f\"Unique Count: {unique_count}\")\n",
    "    # Show unique values\n",
    "    unique_values = df[column].unique()\n",
    "    print(\"Unique Values:\")\n",
    "    print(unique_values)\n",
    "    print(\"-------------------\")\n"
   ]
  },
  {
   "cell_type": "code",
   "execution_count": 25,
   "id": "36163728",
   "metadata": {},
   "outputs": [
    {
     "name": "stdout",
     "output_type": "stream",
     "text": [
      "                      Priority  \\\n",
      "Group                            \n",
      "Endorsements              6449   \n",
      "Onboardings                530   \n",
      "Reimbursement Claims      3827   \n",
      "Support                   5670   \n",
      "\n",
      "                      First reply time in minutes within business hours  \\\n",
      "Group                                                                     \n",
      "Endorsements                                                4207.170213   \n",
      "Onboardings                                                 1363.774336   \n",
      "Reimbursement Claims                                        1511.346479   \n",
      "Support                                                      316.797272   \n",
      "\n",
      "                      First resolution time in minutes within business hours  \n",
      "Group                                                                         \n",
      "Endorsements                                                7171.163914       \n",
      "Onboardings                                                16462.730871       \n",
      "Reimbursement Claims                                        5128.485865       \n",
      "Support                                                     2265.417388       \n"
     ]
    }
   ],
   "source": [
    "# Group-wise analysis\n",
    "group_wise_analysis = df.groupby('Group').agg({\n",
    "    'Priority': 'count', # Count of emails\n",
    "    'First reply time in minutes within business hours': 'mean', # Average first reply time\n",
    "    'First resolution time in minutes within business hours': 'mean', # Average resolution time\n",
    "})\n",
    "print(group_wise_analysis)"
   ]
  },
  {
   "cell_type": "code",
   "execution_count": 70,
   "id": "c96939e0",
   "metadata": {},
   "outputs": [
    {
     "name": "stdout",
     "output_type": "stream",
     "text": [
      "Month\n",
      "1      81\n",
      "2      89\n",
      "3     115\n",
      "4     824\n",
      "5     857\n",
      "6      90\n",
      "7      67\n",
      "8      94\n",
      "9      65\n",
      "10    102\n",
      "11     82\n",
      "12     87\n",
      "dtype: int64\n"
     ]
    },
    {
     "data": {
      "image/png": "[encoded data removed]",
      "text/plain": [
       "<Figure size 720x432 with 1 Axes>"
      ]
     },
     "metadata": {
      "needs_background": "light"
     },
     "output_type": "display_data"
    }
   ],
   "source": [
    "# Time-based analysis (if timestamp columns are available)\n",
    "# For example, analyzing email volume by month\n",
    "df['Month'] = pd.to_datetime(df['Created at']).dt.month\n",
    "monthly_email_volume = df.groupby('Month').size()\n",
    "print(monthly_email_volume)\n",
    "\n",
    "# Visualization\n",
    "import matplotlib.pyplot as plt\n",
    "\n",
    "monthly_email_volume.plot(kind='bar', figsize=(10, 6))\n",
    "plt.title('Email volume by month', fontsize=15)\n",
    "plt.xlabel('Months', fontsize=12)\n",
    "plt.ylabel('Email Count', fontsize=12)\n",
    "plt.xticks(fontsize=10, rotation = 0)\n",
    "plt.yticks(fontsize=10)\n",
    "plt.show()"
   ]
  },
  {
   "cell_type": "code",
   "execution_count": 74,
   "id": "12fec283",
   "metadata": {},
   "outputs": [
    {
     "name": "stdout",
     "output_type": "stream",
     "text": [
      "         Reopens  Replies  Satisfaction Score\n",
      "Group                                        \n",
      "Support     1075     7572            4.332075\n"
     ]
    }
   ],
   "source": [
    "# Convert 'Satisfaction Score' column to numeric, ignoring errors\n",
    "df['Satisfaction Score'] = pd.to_numeric(df['Satisfaction Score'], errors='coerce')\n",
    "\n",
    "# Filter out non-numeric values\n",
    "numeric_satisfaction_scores = df['Satisfaction Score'].dropna()\n",
    "\n",
    "# Performance metrics calculation\n",
    "performance_metrics = df.groupby('Group').agg({\n",
    "    'Reopens': 'sum', # Total number of reopens\n",
    "    'Replies': 'sum', # Total number of replies\n",
    "    'Satisfaction Score': lambda x: x.mean() if len(x) > 0 else None, # Mean satisfaction score\n",
    "})\n",
    "print(performance_metrics)\n"
   ]
  },
  {
   "cell_type": "code",
   "execution_count": 77,
   "id": "c519b480",
   "metadata": {},
   "outputs": [
    {
     "data": {
      "image/png": "[encoded data removed]",
      "text/plain": [
       "<Figure size 720x432 with 1 Axes>"
      ]
     },
     "metadata": {
      "needs_background": "light"
     },
     "output_type": "display_data"
    }
   ],
   "source": [
    "# Visualization\n",
    "import matplotlib.pyplot as plt\n",
    "\n",
    "Bar chart of email count by group\n",
    "group_email_count = df['Group'].value_counts()\n",
    "group_email_count.plot(kind='bar', figsize=(10, 6))\n",
    "plt.title('Email Count by Group')\n",
    "plt.xlabel('Group')\n",
    "plt.ylabel('Email Count')\n",
    "plt.show()\n"
   ]
  },
  {
   "cell_type": "code",
   "execution_count": 35,
   "id": "d4d0da3b",
   "metadata": {
    "scrolled": true
   },
   "outputs": [
    {
     "name": "stdout",
     "output_type": "stream",
     "text": [
      "Group\n",
      "Endorsements            4207.170213\n",
      "Onboardings             1363.774336\n",
      "Reimbursement Claims    1511.346479\n",
      "Support                  316.797272\n",
      "Name: First reply time in minutes within business hours, dtype: float64\n"
     ]
    }
   ],
   "source": [
    "# Convert 'First reply time in minutes within business hours' to numeric\n",
    "df['First reply time in minutes within business hours'] = pd.to_numeric(df['First reply time in minutes within business hours'], errors='coerce')\n",
    "\n",
    "# Calculate average response time for each team\n",
    "response_time_avg = df.groupby('Group')['First reply time in minutes within business hours'].mean()\n",
    "\n",
    "print(response_time_avg)\n"
   ]
  },
  {
   "cell_type": "markdown",
   "id": "a0a1b89c",
   "metadata": {},
   "source": [
    "### Here, we calculate the average first reply time for each team within business hours. The insights are:\n",
    "\n",
    "#### 1. The \"Support\" team has the lowest average first reply time, indicating that they respond to emails more quickly compared to other teams.\n",
    "#### 2. The \"Endorsements\" team has the highest average first reply time, suggesting that they may take longer to respond to emails compared to other teams."
   ]
  },
  {
   "cell_type": "code",
   "execution_count": 36,
   "id": "15a786d3",
   "metadata": {},
   "outputs": [
    {
     "name": "stdout",
     "output_type": "stream",
     "text": [
      "Group\n",
      "Endorsements             7171.163914\n",
      "Onboardings             16462.730871\n",
      "Reimbursement Claims     5128.485865\n",
      "Support                  2265.417388\n",
      "Name: First resolution time in minutes within business hours, dtype: float64\n"
     ]
    }
   ],
   "source": [
    "# Convert 'First resolution time in minutes within business hours' to numeric\n",
    "df['First resolution time in minutes within business hours'] = pd.to_numeric(df['First resolution time in minutes within business hours'], errors='coerce')\n",
    "\n",
    "# Calculate average resolution time for each team\n",
    "resolution_time_avg = df.groupby('Group')['First resolution time in minutes within business hours'].mean()\n",
    "\n",
    "print(resolution_time_avg)\n"
   ]
  },
  {
   "cell_type": "markdown",
   "id": "1bf18261",
   "metadata": {},
   "source": [
    "### Here, we calculate the average first resolution time for each team within business hours. Further we conclude that:- \n",
    "\n",
    "#### 1. The \"Support\" team has the lowest average first resolution time, indicating that they resolve issues more quickly compared to other teams.\n",
    "#### 2. The \"Onboardings\" team has the highest average first resolution time, suggesting that they may take longer to resolve issues compared to other teams."
   ]
  },
  {
   "cell_type": "code",
   "execution_count": 38,
   "id": "261e7e68",
   "metadata": {
    "scrolled": true
   },
   "outputs": [
    {
     "name": "stdout",
     "output_type": "stream",
     "text": [
      "Group\n",
      "Endorsements            0.127927\n",
      "Onboardings             0.275472\n",
      "Reimbursement Claims    0.136661\n",
      "Support                 0.113757\n",
      "Name: Solved, dtype: float64\n"
     ]
    }
   ],
   "source": [
    "# Calculate resolution rate for each team\n",
    "resolution_rate = (df.groupby('Group')['Status'].value_counts(normalize=True)\n",
    "                   .unstack().fillna(0)['Solved'])\n",
    "print(resolution_rate)"
   ]
  },
  {
   "cell_type": "markdown",
   "id": "21701731",
   "metadata": {},
   "source": [
    "### Here, we calculate the resolution rate (percentage of issues resolved) for each team. The insights provided by the output are as follows:\n",
    "\n",
    "#### 1. The \"Onboardings\" team has the highest resolution rate, indicating that they are relatively successful in resolving issues compared to other teams.\n",
    "#### 2. The \"Support\" team has a relatively lower resolution rate compared to the other teams, suggesting that they may face challenges in resolving issues effectively."
   ]
  },
  {
   "cell_type": "code",
   "execution_count": 39,
   "id": "8902d2fd",
   "metadata": {},
   "outputs": [
    {
     "name": "stdout",
     "output_type": "stream",
     "text": [
      "Group\n",
      "Endorsements             435\n",
      "Onboardings              120\n",
      "Reimbursement Claims    1551\n",
      "Support                 1896\n",
      "Name: Reopens, dtype: int64\n"
     ]
    }
   ],
   "source": [
    "# Calculate number of reopens for each team\n",
    "reopens_count = df.groupby('Group')['Reopens'].sum()\n",
    "print(reopens_count)"
   ]
  },
  {
   "cell_type": "markdown",
   "id": "11a4c3f0",
   "metadata": {},
   "source": [
    "### Here, the total number of reopens for each team is calculated. We conclude that:- \n",
    "\n",
    "#### 1. The \"Support\" team has the highest number of reopens, indicating that they may face challenges in resolving issues on the first attempt, leading to subsequent reopens.\n",
    "#### 2. The \"Reimbursement Claims\" team also has a significant number of reopens, suggesting potential issues or complexities in handling reimbursement-related queries."
   ]
  },
  {
   "cell_type": "code",
   "execution_count": 40,
   "id": "52ffcaaa",
   "metadata": {},
   "outputs": [
    {
     "name": "stdout",
     "output_type": "stream",
     "text": [
      "                      Response Time (mins)  Resolution Time (mins)\n",
      "Group                                                             \n",
      "Endorsements                   4207.170213             7171.163914\n",
      "Onboardings                    1363.774336            16462.730871\n",
      "Reimbursement Claims           1511.346479             5128.485865\n",
      "Support                         316.797272             2265.417388\n"
     ]
    },
    {
     "data": {
      "image/png": "[encoded data removed]",
      "text/plain": [
       "<Figure size 720x432 with 1 Axes>"
      ]
     },
     "metadata": {
      "needs_background": "light"
     },
     "output_type": "display_data"
    }
   ],
   "source": [
    "import matplotlib.pyplot as plt\n",
    "\n",
    "# Create a table summarizing response and resolution times for each group\n",
    "summary_table = pd.DataFrame({\n",
    "    'Response Time (mins)': response_time_avg,\n",
    "    'Resolution Time (mins)': resolution_time_avg\n",
    "})\n",
    "\n",
    "print(summary_table)\n",
    "\n",
    "# Create bar plots to visualize response and resolution times\n",
    "summary_table.plot(kind='bar', figsize=(10, 6))\n",
    "plt.title('Average Response and Resolution Times by Group')\n",
    "plt.xlabel('Group')\n",
    "plt.ylabel('Time (minutes)')\n",
    "plt.xticks(rotation=45)\n",
    "plt.legend(title='Metric')\n",
    "plt.show()\n"
   ]
  },
  {
   "cell_type": "markdown",
   "id": "f0d94595",
   "metadata": {},
   "source": [
    "### On average, the Endorsements group has the longest response and resolution times, while the Support group demonstrates the shortest times among the teams."
   ]
  },
  {
   "cell_type": "code",
   "execution_count": 49,
   "id": "60fe777e",
   "metadata": {},
   "outputs": [
    {
     "name": "stdout",
     "output_type": "stream",
     "text": [
      "Via\n",
      "Closed Ticket             4977.982206\n",
      "Internal Communication    1063.659681\n",
      "Mail                      5965.363848\n",
      "OutBound                  3549.112060\n",
      "Name: First resolution time in minutes within business hours, dtype: float64\n"
     ]
    },
    {
     "data": {
      "image/png": "[encoded data removed]",
      "text/plain": [
       "<Figure size 720x432 with 1 Axes>"
      ]
     },
     "metadata": {
      "needs_background": "light"
     },
     "output_type": "display_data"
    }
   ],
   "source": [
    "# Convert 'First resolution time in minutes within business hours' to numeric\n",
    "df['First resolution time in minutes within business hours'] = pd.to_numeric(df['First resolution time in minutes within business hours'], errors='coerce')\n",
    "\n",
    "# Calculate average resolution time for each type of ticket within each group\n",
    "avg_resolution_time_by_via = df.groupby(['Via'])['First resolution time in minutes within business hours'].mean()\n",
    "print(avg_resolution_time_by_via)\n",
    "\n",
    "# Plot the average resolution time for each type of ticket grouped by 'Via'\n",
    "avg_resolution_time_by_via.plot(kind='bar', figsize=(10, 6))\n",
    "plt.title('Average Resolution Time by Via')\n",
    "plt.xlabel('Ticket Type')\n",
    "plt.ylabel('Average Resolution Time (minutes)')\n",
    "plt.xticks(rotation=45)\n",
    "plt.legend(title='Via', bbox_to_anchor=(1.05, 1), loc='upper left')\n",
    "plt.show()\n"
   ]
  },
  {
   "cell_type": "markdown",
   "id": "e3e408c1",
   "metadata": {},
   "source": [
    "### Therefore, Tickets received via 'Mail' take the longest time to resolve, while those received via 'Internal Communication' take the least time."
   ]
  },
  {
   "cell_type": "code",
   "execution_count": 66,
   "id": "22ff669d",
   "metadata": {},
   "outputs": [
    {
     "name": "stdout",
     "output_type": "stream",
     "text": [
      "Manual Tagging of Categories [list]\n",
      "Claims                              1743.006696\n",
      "HR Queries                          4663.530534\n",
      "Health Benefits                     2455.133333\n",
      "Health ID                           4405.084615\n",
      "Is my treatment covered (IMTC)      2444.979259\n",
      "Manage dependents                   2677.883562\n",
      "Network or Blacklisted Hospitals    1767.285714\n",
      "Not Applicable                      2679.150685\n",
      "Others                              2288.044025\n",
      "Super Top-up (STU)                  1696.657143\n",
      "Telehealth                          1936.900000\n",
      "Name: First resolution time in minutes within business hours, dtype: float64\n"
     ]
    },
    {
     "data": {
      "image/png": "[encoded data removed]",
      "text/plain": [
       "<Figure size 1440x1080 with 1 Axes>"
      ]
     },
     "metadata": {
      "needs_background": "light"
     },
     "output_type": "display_data"
    }
   ],
   "source": [
    "df['First resolution time in minutes within business hours'] = pd.to_numeric(df['First resolution time in minutes within business hours'], errors='coerce')\n",
    "df.dropna(subset=['Manual Tagging of Categories [list]'], inplace=True)\n",
    "avg_resolution_time_by_category = df.groupby(['Manual Tagging of Categories [list]'])['First resolution time in minutes within business hours'].mean()\n",
    "print(avg_resolution_time_by_category)\n",
    "\n",
    "# Plot the average resolution time for each type of ticket grouped by 'Manual Tagging of Categories [list]'\n",
    "avg_resolution_time_by_category.plot(kind='bar', figsize=(20, 15))\n",
    "plt.title('Average Resolution Time by Manual Tagging of Categories [list]', fontsize=18)\n",
    "plt.xlabel('Ticket Type', fontsize=15)\n",
    "plt.ylabel('Average Resolution Time (minutes)', fontsize=15)\n",
    "plt.xticks(fontsize=12, rotation=85)\n",
    "plt.yticks(fontsize=12)\n",
    "plt.show()"
   ]
  },
  {
   "cell_type": "markdown",
   "id": "e8b6ee37",
   "metadata": {},
   "source": [
    "### The category \"HR Queries\" takes the most time to resolve, according to the average resolution time."
   ]
  },
  {
   "cell_type": "code",
   "execution_count": null,
   "id": "f6028ec3",
   "metadata": {},
   "outputs": [],
   "source": []
  }
 ],
 "metadata": {
  "kernelspec": {
   "display_name": "Python 3 (ipykernel)",
   "language": "python",
   "name": "python3"
  },
  "language_info": {
   "codemirror_mode": {
    "name": "ipython",
    "version": 3
   },
   "file_extension": ".py",
   "mimetype": "text/x-python",
   "name": "python",
   "nbconvert_exporter": "python",
   "pygments_lexer": "ipython3",
   "version": "3.9.12"
  }
 },
 "nbformat": 4,
 "nbformat_minor": 5
}
